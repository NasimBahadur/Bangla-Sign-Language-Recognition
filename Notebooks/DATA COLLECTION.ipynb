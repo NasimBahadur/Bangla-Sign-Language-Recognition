{
 "cells": [
  {
   "cell_type": "markdown",
   "id": "cf733cfb",
   "metadata": {},
   "source": [
    "# Dependencies"
   ]
  },
  {
   "cell_type": "code",
   "execution_count": null,
   "id": "df0113b8",
   "metadata": {},
   "outputs": [],
   "source": [
    "import os\n",
    "import cv2\n",
    "import winsound\n",
    "import numpy as np\n",
    "import mediapipe as mp\n",
    "from matplotlib import pyplot as plt"
   ]
  },
  {
   "cell_type": "markdown",
   "id": "94dda727",
   "metadata": {},
   "source": [
    "# Constants"
   ]
  },
  {
   "cell_type": "code",
   "execution_count": null,
   "id": "3e1684a2",
   "metadata": {},
   "outputs": [],
   "source": [
    "DATA_PATH = os.path.join('D:\\\\DATA')\n",
    "SEQUENCE_LENGTH = 30"
   ]
  },
  {
   "cell_type": "markdown",
   "id": "9f7b4e23",
   "metadata": {},
   "source": [
    "# Driver Functions"
   ]
  },
  {
   "cell_type": "code",
   "execution_count": null,
   "id": "db69a646",
   "metadata": {},
   "outputs": [],
   "source": [
    "mp_holistic = mp.solutions.holistic #holistic model\n",
    "mp_drawing = mp.solutions.drawing_utils #drawing utilities\n",
    "\n",
    "\n",
    "def mediapipe_detection(image, model):\n",
    "    image = cv2.cvtColor(image, cv2.COLOR_BGR2RGB) #color conversion\n",
    "    image.flags.writeable = False #image is no longer writable\n",
    "    results = model.process(image) #make pred \n",
    "    image.flags.writeable = False #image is writable\n",
    "    image = cv2.cvtColor(image, cv2.COLOR_RGB2BGR) #color conversion\n",
    "    return image, results\n",
    "\n",
    "\n",
    "def draw_styled_landmarks(image, results):\n",
    "    mp_drawing.draw_landmarks(image, results.face_landmarks, mp_holistic.FACEMESH_TESSELATION,\n",
    "                             mp_drawing.DrawingSpec(color=(80, 110, 10), thickness=1, circle_radius=1),\n",
    "                             mp_drawing.DrawingSpec(color=(80, 256, 121), thickness=1, circle_radius=1)\n",
    "                            )\n",
    "    mp_drawing.draw_landmarks(image, results.pose_landmarks, mp_holistic.POSE_CONNECTIONS,\n",
    "                             mp_drawing.DrawingSpec(color=(80, 22, 10), thickness=2, circle_radius=4),\n",
    "                             mp_drawing.DrawingSpec(color=(80, 44, 121), thickness=2, circle_radius=2)\n",
    "                            )\n",
    "    mp_drawing.draw_landmarks(image, results.left_hand_landmarks, mp_holistic.HAND_CONNECTIONS,\n",
    "                             mp_drawing.DrawingSpec(color=(121, 22, 76), thickness=2, circle_radius=4),\n",
    "                             mp_drawing.DrawingSpec(color=(121, 44, 250), thickness=2, circle_radius=2)\n",
    "                            )\n",
    "    mp_drawing.draw_landmarks(image, results.right_hand_landmarks, mp_holistic.HAND_CONNECTIONS,\n",
    "                             mp_drawing.DrawingSpec(color=(245, 117, 66), thickness=2, circle_radius=4),\n",
    "                             mp_drawing.DrawingSpec(color=(245, 66, 230), thickness=2, circle_radius=2)\n",
    "                            )\n",
    "\n",
    "    \n",
    "def extract_keypoints(results):\n",
    "    pose = np.array([[res.x, res.y, res.z, res.visibility] for res in results.pose_landmarks.landmark]).flatten() if results.pose_landmarks else np.zeros(33*4)\n",
    "    face = np.array([[res.x, res.y, res.z] for res in results.face_landmarks.landmark]).flatten() if results.face_landmarks else np.zeros(468*3)\n",
    "    lh = np.array([[res.x, res.y, res.z] for res in results.left_hand_landmarks.landmark]).flatten() if results.left_hand_landmarks else np.zeros(21*3)\n",
    "    rh = np.array([[res.x, res.y, res.z] for res in results.right_hand_landmarks.landmark]).flatten() if results.right_hand_landmarks else np.zeros(21*3)\n",
    "    return np.concatenate([pose, face, lh, rh])\n",
    "\n",
    "\n",
    "def collectData(actionName, currentPath, cap):\n",
    "    os.makedirs(currentPath)\n",
    "    \n",
    "    with mp_holistic.Holistic(min_detection_confidence=0.5, min_tracking_confidence=0.5) as holistic:\n",
    "        for i in range(SEQUENCE_LENGTH):\n",
    "            ret, frame = cap.read() #Capture the video frame by frame\n",
    "            image, results = mediapipe_detection(frame, holistic)  #make detection\n",
    "                \n",
    "            draw_styled_landmarks(image, results) #draw\n",
    "        \n",
    "            #apply logic\n",
    "            if i == 0:\n",
    "                cv2.putText(image, \"STARTING COLLECTION\", (120, 120), cv2.FONT_HERSHEY_SIMPLEX, 1, (0, 255, 0), 2, cv2.LINE_AA)\n",
    "                cv2.waitKey(1000)\n",
    "                winsound.Beep(440, 500)\n",
    "                \n",
    "            cv2.putText(image, \"ACTION# {} FRAME# {}\".format(actionName, i), (120, 50), cv2.FONT_HERSHEY_SIMPLEX, 1, (0, 255, 0), 2, cv2.LINE_AA)\n",
    "                \n",
    "            keypoints = extract_keypoints(results)\n",
    "            newPath = os.path.join(currentPath, str(i))\n",
    "            np.save(newPath, keypoints)\n",
    "            cv2.imshow('DATA COLLECTION', image)\n",
    "            if cv2.waitKey(1) & 0xFF == ord('q'):\n",
    "                return\n",
    "            \n",
    "    print(currentPath)"
   ]
  },
  {
   "cell_type": "markdown",
   "id": "d2b08654",
   "metadata": {},
   "source": [
    "# Action Input"
   ]
  },
  {
   "cell_type": "code",
   "execution_count": null,
   "id": "520c902e",
   "metadata": {},
   "outputs": [],
   "source": [
    "action = input(\"action:\")"
   ]
  },
  {
   "cell_type": "markdown",
   "id": "bfec7237",
   "metadata": {},
   "source": [
    "# Video Input"
   ]
  },
  {
   "cell_type": "code",
   "execution_count": null,
   "id": "f90520fb",
   "metadata": {},
   "outputs": [],
   "source": [
    "start = int(input(\"start:\"))\n",
    "end = int(input(\"end:\"))\n",
    "\n",
    "cap = cv2.VideoCapture(0)\n",
    "for i in range(start, end+1):\n",
    "    try:\n",
    "        currentPath = os.path.join(DATA_PATH, action, str(i))\n",
    "        collectData(action, currentPath, cap)\n",
    "    except:\n",
    "        pass\n",
    "\n",
    "cap.release()\n",
    "cv2.destroyAllWindows()"
   ]
  }
 ],
 "metadata": {
  "kernelspec": {
   "display_name": "Python 3 (ipykernel)",
   "language": "python",
   "name": "python3"
  },
  "language_info": {
   "codemirror_mode": {
    "name": "ipython",
    "version": 3
   },
   "file_extension": ".py",
   "mimetype": "text/x-python",
   "name": "python",
   "nbconvert_exporter": "python",
   "pygments_lexer": "ipython3",
   "version": "3.8.10"
  }
 },
 "nbformat": 4,
 "nbformat_minor": 5
}
